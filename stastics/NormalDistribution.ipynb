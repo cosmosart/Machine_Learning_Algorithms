{
 "cells": [
  {
   "cell_type": "code",
   "execution_count": 1,
   "metadata": {
    "ExecuteTime": {
     "end_time": "2019-06-24T00:07:09.914710Z",
     "start_time": "2019-06-24T00:07:09.876772Z"
    }
   },
   "outputs": [],
   "source": [
    "def NormalDistributionDisplay(LPPS=0.5,Steps=10):\n",
    "    \"\"\"\n",
    "    LPPS = Left probability per step\n",
    "    Steps = Number of steps\n",
    "    Usage\n",
    "    NormalDistributionDispaly(LPPS,Steps)\n",
    "    \"\"\"\n",
    "    import numpy as np\n",
    "    import pandas as pd\n",
    "    import matplotlib.pyplot as plt\n",
    "    import seaborn as sns\n",
    "    sns.set()\n",
    "    try:\n",
    "        LPPS = LPPS\n",
    "        Steps = Steps\n",
    "\n",
    "        MeanLeftSteps = LPPS * Steps\n",
    "        RPPS = 1 - LPPS\n",
    "        Variance = Steps * RPPS * LPPS\n",
    "        Std = Variance ** (1/2)\n",
    "        print(f\"Left probability per step : {LPPS}\")\n",
    "        print(f\"Number of steps : {Steps}\")\n",
    "        DistTable = np.array([[Steps-2*i, i,Steps-i,\n",
    "                               np.math.factorial(Steps)/(np.math.factorial(i)*np.math.factorial(Steps-i))*LPPS**i*RPPS**(Steps-i),\n",
    "                               1/(Std*(2*np.math.pi*np.math.exp((i-MeanLeftSteps)**2/Variance))**(1/2))\n",
    "                              ]\n",
    "                              for i in range(Steps+1)])\n",
    "        df = pd.DataFrame(DistTable, columns=('EndPosition', 'Left', 'Right', 'Binomial', 'Normal'))\n",
    "        fig, ax = plt.subplots(figsize=(14,8))\n",
    "        sns.lineplot('EndPosition', 'Binomial', marker='o', color='blue', data=df)\n",
    "        sns.lineplot('EndPosition', 'Normal', marker='o', color='red', data=df)\n",
    "        ax.set(ylabel='Probability')\n",
    "        ax.legend(['Binomial', 'Normal'])\n",
    "\n",
    "    except:\n",
    "        print(\"Please enter Left probability between 0.1 to 0.9 or reduce Number of the steps\")"
   ]
  },
  {
   "cell_type": "code",
   "execution_count": 2,
   "metadata": {
    "ExecuteTime": {
     "end_time": "2019-06-24T00:07:13.288201Z",
     "start_time": "2019-06-24T00:07:10.756401Z"
    }
   },
   "outputs": [
    {
     "name": "stdout",
     "output_type": "stream",
     "text": [
      "Left probability per step : 0.5\n",
      "Number of steps : 50\n"
     ]
    }
   ],
   "source": [
    "NormalDistributionDisplay(0.5, 50)"
   ]
  },
  {
   "cell_type": "code",
   "execution_count": 3,
   "metadata": {
    "ExecuteTime": {
     "end_time": "2019-06-24T00:07:20.648872Z",
     "start_time": "2019-06-24T00:07:19.991829Z"
    }
   },
   "outputs": [
    {
     "data": {
      "application/vnd.jupyter.widget-view+json": {
       "model_id": "3f891d6ff5b345ce82d9f5cfca4f1db5",
       "version_major": 2,
       "version_minor": 0
      },
      "text/plain": [
       "interactive(children=(FloatSlider(value=0.5, description='LPPS', max=0.8, min=0.2), IntSlider(value=100, descr…"
      ]
     },
     "metadata": {},
     "output_type": "display_data"
    }
   ],
   "source": [
    "import ipywidgets as widgets\n",
    "from IPython.display import display\n",
    "\n",
    "@widgets.interact(LPPS = (0.2,0.8),Steps=(10,100))\n",
    "def f(LPPS = 0.5, Steps=100):\n",
    "    NormalDistributionDisplay(LPPS,Steps)"
   ]
  },
  {
   "cell_type": "code",
   "execution_count": null,
   "metadata": {},
   "outputs": [],
   "source": []
  }
 ],
 "metadata": {
  "kernelspec": {
   "display_name": "Python 3",
   "language": "python",
   "name": "python3"
  },
  "language_info": {
   "codemirror_mode": {
    "name": "ipython",
    "version": 3
   },
   "file_extension": ".py",
   "mimetype": "text/x-python",
   "name": "python",
   "nbconvert_exporter": "python",
   "pygments_lexer": "ipython3",
   "version": "3.7.3"
  },
  "latex_envs": {
   "LaTeX_envs_menu_present": true,
   "autoclose": false,
   "autocomplete": true,
   "bibliofile": "biblio.bib",
   "cite_by": "apalike",
   "current_citInitial": 1,
   "eqLabelWithNumbers": true,
   "eqNumInitial": 1,
   "hotkeys": {
    "equation": "Ctrl-E",
    "itemize": "Ctrl-I"
   },
   "labels_anchors": false,
   "latex_user_defs": false,
   "report_style_numbering": false,
   "user_envs_cfg": false
  }
 },
 "nbformat": 4,
 "nbformat_minor": 2
}
